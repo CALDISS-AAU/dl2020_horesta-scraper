{
 "cells": [
  {
   "cell_type": "code",
   "execution_count": 32,
   "metadata": {},
   "outputs": [],
   "source": [
    "# Packages\n",
    "\n",
    "import re\n",
    "import os\n",
    "import pandas as pd\n",
    "import json\n",
    "import seaborn as sns\n",
    "from matplotlib import pyplot as plt\n",
    "import stanza\n",
    "from datetime import datetime as dt\n",
    "from itertools import compress\n",
    "\n",
    "%matplotlib inline\n",
    "sns.set(rc={'figure.figsize':(20,12)})\n",
    "\n",
    "data_path = os.path.join('C:/', 'data', 'horesta')\n",
    "out_path = os.path.join('..', 'output')"
   ]
  },
  {
   "cell_type": "code",
   "execution_count": 2,
   "metadata": {},
   "outputs": [
    {
     "data": {
      "text/plain": [
       "1261"
      ]
     },
     "execution_count": 2,
     "metadata": {},
     "output_type": "execute_result"
    }
   ],
   "source": [
    "# Loading data\n",
    "path = os.path.join(data_path, 'horesta_posts_2021-02-02.json')\n",
    "\n",
    "with open(path, 'r') as file:\n",
    "    data = json.load(file)\n",
    "    \n",
    "len(data)"
   ]
  },
  {
   "cell_type": "code",
   "execution_count": 3,
   "metadata": {},
   "outputs": [],
   "source": [
    "# Converting data to data frame\n",
    "\n",
    "df = pd.DataFrame.from_records(data)"
   ]
  },
  {
   "cell_type": "code",
   "execution_count": 5,
   "metadata": {},
   "outputs": [],
   "source": [
    "text = str(df.loc[0, 'text']).replace(\".\", \". \")"
   ]
  },
  {
   "cell_type": "code",
   "execution_count": 15,
   "metadata": {},
   "outputs": [
    {
     "data": {
      "text/plain": [
       "'\\n\\n\\n\\n\\n\\n\\n\\nFra næste måned begynder udrulningen af det statslige vaccinationsprogram. Dermed er der håb om, at den sidste bjergetape er kørt, og vi kan tage hul på de lange og flade strækninger i retning af en genåbning og normalisering af vores samfund. Ruten vil stadig være uforudsigelig og formentlig ujævn og bumlet.  Men retningen er den rigtige, og dermed skaber det nye muligheder for at begynde at planlægge, hvordan og hvornår vores erhverv kan begynde at skabe omsætning og indtjening igen.  Netop sådan en genåbningsplan efterlyste vis, da regeringen lancerede sin vaccinationsplan.  En plan, som kan gøre det muligt for vores erhverv at tænde for det lange lys og begynde at planlægge to, tre og fire måneder frem. Det er oplagt at udnytte de muligheder, vaccinationer i kombination med hurtigtests kan skabe for at lempe på de nuværende restriktioner.  Og det bør være muligt i løbet af første halvår af 2021 at lave store events og arrangementer uden begrænsninger på antal eller kvadratmeter ved, at gæsternes ”adgangsbillet” enten er en vaccinationsattest eller en hurtigtest ved indgangen. Som samfund har vi ganske enkelt ikke råd til at lade være.  Vi er nødt til at hente gevinsten ved vaccinationsplanen kombineret med valide hurtigtests så tidligt, som det er forsvarligt muligt. \\nFlere politikere har advaret imod, at man kan få et A- og et B-hold, hvis de vaccinerede får bedre muligheder i samfundet end de ikke-vaccinerede.  Men netop for at undgå det, giver det mening, at ikke-vaccinerede kan lade sig hurtigteste og få adgang til det samme som de vaccinerede. Lad os tænke nyt, tænke i løsninger og først og fremmest tænke frem. \\nKirsten MunchPolitisk direktørHORESTA\\n\\n \\n\\n\\n\\n\\n'"
      ]
     },
     "execution_count": 15,
     "metadata": {},
     "output_type": "execute_result"
    }
   ],
   "source": [
    "text"
   ]
  },
  {
   "cell_type": "code",
   "execution_count": 30,
   "metadata": {},
   "outputs": [
    {
     "name": "stdout",
     "output_type": "stream",
     "text": [
      "fish\n"
     ]
    }
   ],
   "source": [
    "if re.compile(r'.*\\bruten.*', re.IGNORECASE).match(text, re.DOTALL):\n",
    "    print(\"fish\")"
   ]
  },
  {
   "cell_type": "code",
   "execution_count": 26,
   "metadata": {},
   "outputs": [
    {
     "name": "stdout",
     "output_type": "stream",
     "text": [
      "fish\n"
     ]
    }
   ],
   "source": [
    "if re.match(r'.*\\berhverv.*', text, re.DOTALL):\n",
    "    print(\"fish\")"
   ]
  },
  {
   "cell_type": "code",
   "execution_count": 39,
   "metadata": {},
   "outputs": [],
   "source": [
    "keywords = ['virksomhed', 'hotel', 'restaurant', 'erhverv']\n",
    "            \n",
    "matches = list(compress(keywords, [re.compile(r'.*\\b{}.*'.format(keyword), re.IGNORECASE).match(text, re.DOTALL) for keyword in keywords]))"
   ]
  },
  {
   "cell_type": "code",
   "execution_count": 40,
   "metadata": {},
   "outputs": [
    {
     "data": {
      "text/plain": [
       "['erhverv']"
      ]
     },
     "execution_count": 40,
     "metadata": {},
     "output_type": "execute_result"
    }
   ],
   "source": [
    "matches"
   ]
  },
  {
   "cell_type": "code",
   "execution_count": null,
   "metadata": {},
   "outputs": [],
   "source": []
  }
 ],
 "metadata": {
  "kernelspec": {
   "display_name": "Python 3",
   "language": "python",
   "name": "python3"
  },
  "language_info": {
   "codemirror_mode": {
    "name": "ipython",
    "version": 3
   },
   "file_extension": ".py",
   "mimetype": "text/x-python",
   "name": "python",
   "nbconvert_exporter": "python",
   "pygments_lexer": "ipython3",
   "version": "3.7.9"
  }
 },
 "nbformat": 4,
 "nbformat_minor": 4
}
