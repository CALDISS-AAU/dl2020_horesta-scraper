{
 "cells": [
  {
   "cell_type": "code",
   "execution_count": 50,
   "metadata": {},
   "outputs": [
    {
     "name": "stderr",
     "output_type": "stream",
     "text": [
      "C:\\programs\\Anaconda3\\envs\\tm\\lib\\site-packages\\pandas\\core\\indexing.py:1743: SettingWithCopyWarning: \n",
      "A value is trying to be set on a copy of a slice from a DataFrame.\n",
      "Try using .loc[row_indexer,col_indexer] = value instead\n",
      "\n",
      "See the caveats in the documentation: https://pandas.pydata.org/pandas-docs/stable/user_guide/indexing.html#returning-a-view-versus-a-copy\n",
      "  isetter(ilocs[0], value)\n"
     ]
    }
   ],
   "source": [
    "import os\n",
    "import pandas as pd\n",
    "import json\n",
    "from datetime import datetime as dt\n",
    "import re\n",
    "from itertools import compress\n",
    "import ast\n",
    "import xlsxwriter\n",
    "\n",
    "data_path = os.path.join('D:/', 'data', 'horesta')\n",
    "filename = 'horesta_posts_2021-03-25.json'\n",
    "outname = 'horesta_posts-meta.xlsx'\n",
    "\n",
    "# Loading data\n",
    "path = os.path.join(data_path, filename)\n",
    "\n",
    "with open(path, 'r') as file:\n",
    "    data = json.load(file)\n",
    "\n",
    "df = pd.DataFrame.from_records(data)\n",
    "    \n",
    "df_select = df.loc[:, df.columns != 'html']\n",
    "df_select.loc[:, 'text'] = df_select['text'].apply(lambda string: string.replace(\"\\n\", \"\"))\n",
    "\n",
    "# Text dir\n",
    "textdir = os.path.join(data_path, 'txt_with-meta')\n",
    "\n",
    "filenames = [f for f in os.listdir(textdir) if os.path.isfile(os.path.join(textdir, f))]"
   ]
  },
  {
   "cell_type": "code",
   "execution_count": 52,
   "metadata": {},
   "outputs": [],
   "source": [
    "df_meta = df_select.copy()\n",
    "df_meta['filename'] = pd.Series(filenames)\n",
    "df_meta = df_meta.loc[:, ['filename', 'url', 'tags', 'publish_date', 'access_date']]\n",
    "\n",
    "# Tag dummies\n",
    "df_tags = pd.get_dummies(df_meta.explode('tags')['tags']).reset_index(drop = True).add_prefix(\"tag_\")\n",
    "\n",
    "# Filter tag dummies\n",
    "tags_keep = list(df_tags.sum().loc[df_tags.sum() > 20].index)\n",
    "\n",
    "df_meta = pd.merge(df_meta, df_tags, left_index = True, right_index = True)\n",
    "df_meta = df_meta.loc[:, ['filename', 'url', 'tags', 'publish_date', 'access_date'] + tags_keep]\n",
    "df_meta.loc[:, 'publish_date'] = df_meta['publish_date'].str.replace(' ', '')\n",
    "df_meta.loc[:, 'filename'] = df_meta['filename'].apply(lambda name: \"Files\\\\\\\\\" + name)\n",
    "df_meta.loc[:, 'filename'] = df_meta['filename'].apply(lambda string: string.replace(\".txt\", \"\"))\n",
    "\n",
    "# Export metadata as excel file\n",
    "outpath = os.path.join(data_path, outname)\n",
    "df_meta.to_excel(outpath, index = False)"
   ]
  }
 ],
 "metadata": {
  "kernelspec": {
   "display_name": "Python 3",
   "language": "python",
   "name": "python3"
  },
  "language_info": {
   "codemirror_mode": {
    "name": "ipython",
    "version": 3
   },
   "file_extension": ".py",
   "mimetype": "text/x-python",
   "name": "python",
   "nbconvert_exporter": "python",
   "pygments_lexer": "ipython3",
   "version": "3.7.9"
  }
 },
 "nbformat": 4,
 "nbformat_minor": 4
}
